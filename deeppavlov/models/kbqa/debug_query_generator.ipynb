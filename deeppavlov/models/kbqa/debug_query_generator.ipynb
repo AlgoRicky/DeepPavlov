{
 "cells": [
  {
   "cell_type": "code",
   "execution_count": 1,
   "metadata": {},
   "outputs": [],
   "source": [
    "import os\n",
    "import random\n",
    "import sys\n",
    "\n",
    "os.chdir('/home/peganov/DeepPavlov')"
   ]
  },
  {
   "cell_type": "code",
   "execution_count": 16,
   "metadata": {},
   "outputs": [],
   "source": [
    "import numpy as np\n",
    "\n",
    "import deeppavlov\n",
    "import deeppavlov.models.kbqa.query_generator\n",
    "from deeppavlov.models.kbqa.query_generator import QueryGenerator\n",
    "\n",
    "\n",
    "class Linker:\n",
    "    def __call__(self, entity):\n",
    "        if entity == 'country':\n",
    "            return [\"Q3624078\"]\n",
    "        if entity == 'Israel':\n",
    "            return [\"Q801\"]\n",
    "\n",
    "\n",
    "class WikiParser:\n",
    "    def __call__(self, *args, **kwargs):\n",
    "        return ['aaa', 'bbb', 'ccc']\n",
    "\n",
    "\n",
    "class Ranker:\n",
    "    def __call__(self, question, ex_rels):\n",
    "        a = np.random.uniform(0, 1, size=[len(ex_rels)])\n",
    "        return list(zip(ex_rels, a / np.sum(a)))"
   ]
  },
  {
   "cell_type": "code",
   "execution_count": 17,
   "metadata": {},
   "outputs": [],
   "source": [
    "wiki_parser = WikiParser()\n",
    "ranker = Ranker()\n",
    "linker = Linker()"
   ]
  },
  {
   "cell_type": "code",
   "execution_count": 18,
   "metadata": {},
   "outputs": [],
   "source": [
    "load_path = '/home/evseev/.deeppavlov/downloads/wikidata_eng'\n",
    "\n",
    "qr = QueryGenerator(\n",
    "    linker,\n",
    "    wiki_parser,\n",
    "    ranker,\n",
    "    load_path,\n",
    "    \"rels_0.txt\",\n",
    "    \"rels_1.txt\"\n",
    ")"
   ]
  },
  {
   "cell_type": "code",
   "execution_count": 19,
   "metadata": {},
   "outputs": [
    {
     "name": "stdout",
     "output_type": "stream",
     "text": [
      "rels ['aaa', 'ccc', 'bbb']\n",
      "objects_1 ['aaa', 'bbb', 'ccc']\n",
      "answer_triplets ['aaa', 'bbb', 'ccc']\n",
      "second_rels ['aaa', 'bbb', 'ccc']\n",
      "answer_triplets ['aaa', 'bbb', 'ccc']\n",
      "second_rels ['aaa', 'bbb', 'ccc']\n",
      "answer_triplets ['aaa', 'bbb', 'ccc']\n",
      "second_rels ['aaa', 'bbb', 'ccc']\n",
      "objects_1 ['aaa', 'bbb', 'ccc']\n",
      "answer_triplets ['aaa', 'bbb', 'ccc']\n",
      "second_rels ['aaa', 'bbb', 'ccc']\n",
      "answer_triplets ['aaa', 'bbb', 'ccc']\n",
      "second_rels ['aaa', 'bbb', 'ccc']\n",
      "answer_triplets ['aaa', 'bbb', 'ccc']\n",
      "second_rels ['aaa', 'bbb', 'ccc']\n",
      "objects_1 ['aaa', 'bbb', 'ccc']\n",
      "answer_triplets ['aaa', 'bbb', 'ccc']\n",
      "second_rels ['aaa', 'bbb', 'ccc']\n",
      "answer_triplets ['aaa', 'bbb', 'ccc']\n",
      "second_rels ['aaa', 'bbb', 'ccc']\n",
      "answer_triplets ['aaa', 'bbb', 'ccc']\n",
      "second_rels ['aaa', 'bbb', 'ccc']\n",
      "objects_1 ['aaa', 'bbb', 'ccc']\n",
      "answer_triplets ['aaa', 'bbb', 'ccc']\n",
      "second_rels ['aaa', 'bbb', 'ccc']\n",
      "answer_triplets ['aaa', 'bbb', 'ccc']\n",
      "second_rels ['aaa', 'bbb', 'ccc']\n",
      "answer_triplets ['aaa', 'bbb', 'ccc']\n",
      "second_rels ['aaa', 'bbb', 'ccc']\n",
      "objects_1 ['aaa', 'bbb', 'ccc']\n",
      "answer_triplets ['aaa', 'bbb', 'ccc']\n",
      "second_rels ['aaa', 'bbb', 'ccc']\n",
      "answer_triplets ['aaa', 'bbb', 'ccc']\n",
      "second_rels ['aaa', 'bbb', 'ccc']\n",
      "answer_triplets ['aaa', 'bbb', 'ccc']\n",
      "second_rels ['aaa', 'bbb', 'ccc']\n",
      "objects_1 ['aaa', 'bbb', 'ccc']\n",
      "answer_triplets ['aaa', 'bbb', 'ccc']\n",
      "second_rels ['aaa', 'bbb', 'ccc']\n",
      "answer_triplets ['aaa', 'bbb', 'ccc']\n",
      "second_rels ['aaa', 'bbb', 'ccc']\n",
      "answer_triplets ['aaa', 'bbb', 'ccc']\n",
      "second_rels ['aaa', 'bbb', 'ccc']\n",
      "[('aaa', 'a', 'a'), ('aaa', 'b', 'b'), ('aaa', 'c', 'c'), ('aaa', 'a', 'a'), ('aaa', 'b', 'b'), ('aaa', 'c', 'c'), ('aaa', 'a', 'a'), ('aaa', 'b', 'b'), ('aaa', 'c', 'c'), ('ccc', 'a', 'a'), ('ccc', 'b', 'b'), ('ccc', 'c', 'c'), ('ccc', 'a', 'a'), ('ccc', 'b', 'b'), ('ccc', 'c', 'c'), ('ccc', 'a', 'a'), ('ccc', 'b', 'b'), ('ccc', 'c', 'c'), ('bbb', 'a', 'a'), ('bbb', 'b', 'b'), ('bbb', 'c', 'c'), ('bbb', 'a', 'a'), ('bbb', 'b', 'b'), ('bbb', 'c', 'c'), ('bbb', 'a', 'a'), ('bbb', 'b', 'b'), ('bbb', 'c', 'c'), ('aaa', 'a', 'a'), ('aaa', 'b', 'b'), ('aaa', 'c', 'c'), ('aaa', 'a', 'a'), ('aaa', 'b', 'b'), ('aaa', 'c', 'c'), ('aaa', 'a', 'a'), ('aaa', 'b', 'b'), ('aaa', 'c', 'c'), ('ccc', 'a', 'a'), ('ccc', 'b', 'b'), ('ccc', 'c', 'c'), ('ccc', 'a', 'a'), ('ccc', 'b', 'b'), ('ccc', 'c', 'c'), ('ccc', 'a', 'a'), ('ccc', 'b', 'b'), ('ccc', 'c', 'c'), ('bbb', 'a', 'a'), ('bbb', 'b', 'b'), ('bbb', 'c', 'c'), ('bbb', 'a', 'a'), ('bbb', 'b', 'b'), ('bbb', 'c', 'c'), ('bbb', 'a', 'a'), ('bbb', 'b', 'b'), ('bbb', 'c', 'c')]\n"
     ]
    },
    {
     "data": {
      "text/plain": [
       "[('aaa', 'a', 'a'),\n",
       " ('aaa', 'b', 'b'),\n",
       " ('aaa', 'c', 'c'),\n",
       " ('aaa', 'a', 'a'),\n",
       " ('aaa', 'b', 'b'),\n",
       " ('aaa', 'c', 'c'),\n",
       " ('aaa', 'a', 'a'),\n",
       " ('aaa', 'b', 'b'),\n",
       " ('aaa', 'c', 'c'),\n",
       " ('ccc', 'a', 'a'),\n",
       " ('ccc', 'b', 'b'),\n",
       " ('ccc', 'c', 'c'),\n",
       " ('ccc', 'a', 'a'),\n",
       " ('ccc', 'b', 'b'),\n",
       " ('ccc', 'c', 'c'),\n",
       " ('ccc', 'a', 'a'),\n",
       " ('ccc', 'b', 'b'),\n",
       " ('ccc', 'c', 'c'),\n",
       " ('bbb', 'a', 'a'),\n",
       " ('bbb', 'b', 'b'),\n",
       " ('bbb', 'c', 'c'),\n",
       " ('bbb', 'a', 'a'),\n",
       " ('bbb', 'b', 'b'),\n",
       " ('bbb', 'c', 'c'),\n",
       " ('bbb', 'a', 'a'),\n",
       " ('bbb', 'b', 'b'),\n",
       " ('bbb', 'c', 'c'),\n",
       " ('aaa', 'a', 'a'),\n",
       " ('aaa', 'b', 'b'),\n",
       " ('aaa', 'c', 'c'),\n",
       " ('aaa', 'a', 'a'),\n",
       " ('aaa', 'b', 'b'),\n",
       " ('aaa', 'c', 'c'),\n",
       " ('aaa', 'a', 'a'),\n",
       " ('aaa', 'b', 'b'),\n",
       " ('aaa', 'c', 'c'),\n",
       " ('ccc', 'a', 'a'),\n",
       " ('ccc', 'b', 'b'),\n",
       " ('ccc', 'c', 'c'),\n",
       " ('ccc', 'a', 'a'),\n",
       " ('ccc', 'b', 'b'),\n",
       " ('ccc', 'c', 'c'),\n",
       " ('ccc', 'a', 'a'),\n",
       " ('ccc', 'b', 'b'),\n",
       " ('ccc', 'c', 'c'),\n",
       " ('bbb', 'a', 'a'),\n",
       " ('bbb', 'b', 'b'),\n",
       " ('bbb', 'c', 'c'),\n",
       " ('bbb', 'a', 'a'),\n",
       " ('bbb', 'b', 'b'),\n",
       " ('bbb', 'c', 'c'),\n",
       " ('bbb', 'a', 'a'),\n",
       " ('bbb', 'b', 'b'),\n",
       " ('bbb', 'c', 'c')]"
      ]
     },
     "execution_count": 19,
     "metadata": {},
     "output_type": "execute_result"
    }
   ],
   "source": [
    "#qr([\"What is the capital of Russia?\"], [7], [\"Russia\"])\n",
    "# qr([\"When did Jean-Paul Sartre move to Le Havre?\"], [2], [\"Jean-Paul Sartre\", \"Le Havre\"])\n",
    "# qr([\"How many sponsors are for Juventus F.C.?\"], [4], [\"Juventus F.C.\"])\n",
    "# entity_ids = [[\"Q1422\"]] #this should be in query generator\n",
    "# qr([\"Which country has highest individual tax rate?\"], [5], [\"country\"])\n",
    "#entity_ids = [[\"Q6256\"]]\n",
    "qr([\"What country related to Israel has the highest debt related to GDP?\"], [6], [\"country\", \"Israel\"])\n",
    "#entity_ids = [[\"Q3624078\"], [\"Q801\"]]"
   ]
  },
  {
   "cell_type": "code",
   "execution_count": 4,
   "metadata": {},
   "outputs": [
    {
     "name": "stdout",
     "output_type": "stream",
     "text": [
      "* \u001b[32mckbqa\u001b[m\r\n",
      "  feat/add_validation_after_n_batches\u001b[m\r\n",
      "  master\u001b[m\r\n"
     ]
    }
   ],
   "source": [
    "!git branch"
   ]
  },
  {
   "cell_type": "code",
   "execution_count": 2,
   "metadata": {},
   "outputs": [
    {
     "data": {
      "text/plain": [
       "['query_generator.py',\n",
       " 'entity_linking.py',\n",
       " 'entity_linking_cq.py',\n",
       " '__init__.py',\n",
       " 'entity_detection_parser.py',\n",
       " 'debug_query_generator.ipynb',\n",
       " '__pycache__',\n",
       " 'wiki_parser.py',\n",
       " 'rel_ranking_infer.py',\n",
       " '.ipynb_checkpoints',\n",
       " 'kb_answer_parser_wikidata.py']"
      ]
     },
     "execution_count": 2,
     "metadata": {},
     "output_type": "execute_result"
    }
   ],
   "source": [
    "os.listdir('/home/peganov/DeepPavlov/deeppavlov/models/kbqa')"
   ]
  }
 ],
 "metadata": {
  "kernelspec": {
   "display_name": "Python 3",
   "language": "python",
   "name": "python3"
  },
  "language_info": {
   "codemirror_mode": {
    "name": "ipython",
    "version": 3
   },
   "file_extension": ".py",
   "mimetype": "text/x-python",
   "name": "python",
   "nbconvert_exporter": "python",
   "pygments_lexer": "ipython3",
   "version": "3.6.5"
  }
 },
 "nbformat": 4,
 "nbformat_minor": 4
}
